{
 "cells": [
  {
   "cell_type": "markdown",
   "metadata": {
    "id": "YCjPgTBW-fnt"
   },
   "source": [
    "# EE 599 HW 3 Part 1: Kernel Design\n",
    "\n",
    "Your task in this Colab notebook is to fill out the sections that are specified by **TODO** (please search the keyword `TODO` to make sure you do not miss any)."
   ]
  },
  {
   "cell_type": "markdown",
   "metadata": {
    "id": "mA3TFOQP-fnv"
   },
   "source": [
    "## Im2col Algorithm\n",
    "\n",
    "\n",
    "`Im2col` is a method used in CNNs to transform the input data and filters into a format that allows the convolution to be expressed as a matrix multiplication. This transformation can simplify the implementation of convolution and leverage highly optimized matrix multiplication routines such as BLAS library.\n",
    "\n",
    "In the class and discussion, we have covered the `im2col` algorithm for 2D input with 2D filter.\n",
    "\n",
    "In this section, we extend and implement the `im2col` algorithm for 4D input with 4D filters.\n",
    "\n",
    "First, let's import packages, configure the convolution operation, and randomly initialize the input and filters."
   ]
  },
  {
   "cell_type": "code",
   "execution_count": 66,
   "metadata": {
    "id": "sA-KueXV-fnv"
   },
   "outputs": [],
   "source": [
    "import torch\n",
    "import torch.nn.functional as F\n",
    "\n",
    "padding = 0\n",
    "stride = 1\n",
    "\n",
    "N, C, H, W = 4, 3, 5, 5\n",
    "K, C, KH, KW = 2, 3, 3, 3\n",
    "\n",
    "torch.manual_seed(10) # assign the random seed to avoid precision issue\n",
    "\n",
    "input = torch.rand(N, C, H, W)\n",
    "filter = torch.randn(K, C, KH, KW)"
   ]
  },
  {
   "cell_type": "markdown",
   "metadata": {
    "id": "cqh0n5L7-fnw"
   },
   "source": [
    "### **TODO 1:**\n",
    "\n",
    "Calculate the output height `OH` and output width `OW` for the convolution operation, based on the input dimensions, padding, stride, and kernel size."
   ]
  },
  {
   "cell_type": "code",
   "execution_count": 44,
   "metadata": {
    "id": "otTl35Kt-fnw"
   },
   "outputs": [],
   "source": [
    "#TODO: compute OH and OW\n",
    "OH = (H - KH + stride + 2*padding) // stride\n",
    "OW = (W - KW + stride + 2*padding) // stride"
   ]
  },
  {
   "cell_type": "markdown",
   "metadata": {
    "id": "n5LuN5OR-fnw"
   },
   "source": [
    "### **TODO 2**:\n",
    "\n",
    "Implement the `im2col` operation to transform the 4D input and filter tensors into two 2D matrices. After matrix multiplication, reshape the result back into a 4D tensor to simulate the convolution operation. Compare your implementation's result `output_im2col` with PyTorch's `conv2d` function to verify correctness."
   ]
  },
  {
   "cell_type": "code",
   "execution_count": 46,
   "metadata": {
    "colab": {
     "base_uri": "https://localhost:8080/"
    },
    "id": "6stmundz-fnx",
    "outputId": "eaa577e9-801f-43c6-d8ac-d6544f072239"
   },
   "outputs": [
    {
     "output_type": "stream",
     "name": "stdout",
     "text": [
      "tensor([[[[ 1.8768,  3.0835,  1.9521],\n",
      "          [ 3.9751,  0.6928,  2.5260],\n",
      "          [-1.6710,  0.9018,  2.2751]],\n",
      "\n",
      "         [[-2.5823, -3.2104, -2.1703],\n",
      "          [-3.6444, -1.6703, -2.5939],\n",
      "          [-1.6377, -2.4205, -0.5754]]],\n",
      "\n",
      "\n",
      "        [[[ 2.2483,  1.3231,  1.5150],\n",
      "          [ 2.4206,  0.0365,  1.8823],\n",
      "          [ 2.8809,  0.9102,  4.3302]],\n",
      "\n",
      "         [[-0.8055, -0.9987, -3.0501],\n",
      "          [-1.5590, -0.2290, -3.7441],\n",
      "          [-0.5181, -3.8220, -2.3892]]],\n",
      "\n",
      "\n",
      "        [[[-1.7639,  3.2723,  2.7127],\n",
      "          [ 3.1597,  0.7641, -1.9370],\n",
      "          [ 2.7992,  1.0212,  2.8657]],\n",
      "\n",
      "         [[-0.6126, -4.8531, -2.5797],\n",
      "          [-2.2863, -0.9493, -0.7335],\n",
      "          [-3.0289, -2.2384, -1.0353]]],\n",
      "\n",
      "\n",
      "        [[[ 2.9547,  2.8948,  1.8939],\n",
      "          [ 4.0806,  3.7154,  3.8900],\n",
      "          [ 3.8496,  0.8052,  0.8200]],\n",
      "\n",
      "         [[-1.1793, -2.9636, -3.4071],\n",
      "          [-2.4364, -5.4134, -3.1107],\n",
      "          [-1.7426, -1.6712, -1.4955]]]])\n"
     ]
    }
   ],
   "source": [
    "#TODO: implement im2col for 4D input and filter\n",
    "\n",
    "filter_2d = torch.zeros((K, C*KH*KW))\n",
    "for k in range(K):\n",
    "  for c in range(C):\n",
    "    filter_2d[k, c*KH*KW:(c+1)*KH*KW] = filter[k, c, :, :].flatten()\n",
    "\n",
    "input_2d = torch.zeros((C*KH*KW, N*OH*OW))\n",
    "\n",
    "for n in range(N):\n",
    "  for c in range(C):\n",
    "    col = 0\n",
    "    for i in range(OH):\n",
    "      for j in range(OW):\n",
    "        input_2d[c*KH*KW:(c+1)*KH*KW, n*OW*OH+col] = input[n, c, i:i+KH, j:j+KW].flatten()\n",
    "        col += 1\n",
    "\n",
    "output_2d = torch.mm(filter_2d, input_2d)\n",
    "\n",
    "output_im2col = torch.zeros(N, K, OH, OW)\n",
    "for n in range(N):\n",
    "  for k in range(K):\n",
    "    for i in range(OH):\n",
    "      for j in range(OW):\n",
    "        output_im2col[n, k, i, j] = output_2d[k, n*OH*OW+i*OW+j]\n",
    "\n",
    "print(output_im2col)"
   ]
  },
  {
   "cell_type": "markdown",
   "metadata": {
    "id": "7UGcOIPj-fnx"
   },
   "source": [
    "The correct result is provided below by using Pytorch's `conv2d` function."
   ]
  },
  {
   "cell_type": "code",
   "execution_count": 47,
   "metadata": {
    "colab": {
     "base_uri": "https://localhost:8080/"
    },
    "id": "lre92f1P-fnx",
    "outputId": "d9380765-968e-405e-b7a0-3e11d5acfb2e"
   },
   "outputs": [
    {
     "output_type": "stream",
     "name": "stdout",
     "text": [
      "tensor([[[[ 1.8768,  3.0835,  1.9521],\n",
      "          [ 3.9751,  0.6928,  2.5260],\n",
      "          [-1.6710,  0.9018,  2.2751]],\n",
      "\n",
      "         [[-2.5823, -3.2104, -2.1703],\n",
      "          [-3.6444, -1.6703, -2.5939],\n",
      "          [-1.6377, -2.4205, -0.5754]]],\n",
      "\n",
      "\n",
      "        [[[ 2.2483,  1.3231,  1.5150],\n",
      "          [ 2.4206,  0.0365,  1.8823],\n",
      "          [ 2.8809,  0.9102,  4.3302]],\n",
      "\n",
      "         [[-0.8055, -0.9987, -3.0501],\n",
      "          [-1.5590, -0.2290, -3.7441],\n",
      "          [-0.5181, -3.8220, -2.3892]]],\n",
      "\n",
      "\n",
      "        [[[-1.7639,  3.2723,  2.7127],\n",
      "          [ 3.1597,  0.7641, -1.9370],\n",
      "          [ 2.7992,  1.0212,  2.8657]],\n",
      "\n",
      "         [[-0.6126, -4.8531, -2.5797],\n",
      "          [-2.2863, -0.9493, -0.7335],\n",
      "          [-3.0289, -2.2384, -1.0353]]],\n",
      "\n",
      "\n",
      "        [[[ 2.9547,  2.8948,  1.8939],\n",
      "          [ 4.0806,  3.7154,  3.8900],\n",
      "          [ 3.8496,  0.8052,  0.8200]],\n",
      "\n",
      "         [[-1.1793, -2.9636, -3.4071],\n",
      "          [-2.4364, -5.4134, -3.1107],\n",
      "          [-1.7426, -1.6712, -1.4955]]]])\n"
     ]
    }
   ],
   "source": [
    "output_conv2d = F.conv2d(input, filter, stride=stride, padding=padding)\n",
    "print(output_conv2d)"
   ]
  },
  {
   "cell_type": "markdown",
   "metadata": {
    "id": "3YYeJtsC-fnx"
   },
   "source": [
    "We can use the following functions to check how many the elements are matched."
   ]
  },
  {
   "cell_type": "code",
   "execution_count": 48,
   "metadata": {
    "colab": {
     "base_uri": "https://localhost:8080/"
    },
    "id": "F60zi83N-fnx",
    "outputId": "2f6526af-f3de-435e-ce51-def179617eab"
   },
   "outputs": [
    {
     "output_type": "stream",
     "name": "stdout",
     "text": [
      "Number of matched elements = 72\n",
      "Number of total elements = 72\n"
     ]
    }
   ],
   "source": [
    "# print sum of the True values\n",
    "print(\"Number of matched elements =\", torch.isclose(output_im2col, output_conv2d).sum().item())\n",
    "\n",
    "# print the total number of values\n",
    "print(\"Number of total elements =\", output_im2col.numel())\n"
   ]
  },
  {
   "cell_type": "markdown",
   "metadata": {
    "id": "d1dGFZEc-fnx"
   },
   "source": [
    "## Matrix Multiplication Optimization\n",
    "\n",
    "While matrix multiplication operations are foundational, they can pose challenges, especially in terms of expensive computational complexity.\n",
    "Present compilers are incapable of fully harnessing the processor architecture complexity. There is a wide gap between the available and achieved performance of software. Thereby, the need for performance tuning. Performance tuning of the simple matrix multiplication has indeed been a very tough and challenging project. In this section, we discuss some of the optimization techniques, which gave us substantial improvements.\n",
    "\n",
    "To evaluate and improve the performance of matrix multiplication implementations, it's beneficial to use low-level programming languages like C or C++, which offer closer control over hardware resources. Within a notebook environment, we can facilitate the development, compilation, and execution of C code by using specific commands. The `%%writefile` command allows us to save the content of a notebook cell directly into a file, which can then be compiled and executed using command-line instructions.\n",
    "\n",
    "In the cell below, we provide a naive matrix multiplication implementation and measure the FLOPs per section."
   ]
  },
  {
   "cell_type": "code",
   "execution_count": 49,
   "metadata": {
    "colab": {
     "base_uri": "https://localhost:8080/"
    },
    "id": "2cVEkatI-fny",
    "outputId": "cdb45b15-6594-46f6-a4c2-1f3109e4f5b0"
   },
   "outputs": [
    {
     "output_type": "stream",
     "name": "stdout",
     "text": [
      "Writing naive_mm.c\n"
     ]
    }
   ],
   "source": [
    "%%writefile naive_mm.c\n",
    "#include <stdlib.h>\n",
    "#include <stdio.h>\n",
    "#include <time.h>\n",
    "\n",
    "int main(void) {\n",
    "    int i, j, k;\n",
    "    struct timespec start, stop;\n",
    "    double time;\n",
    "    int n = 1024; // Matrix size is n*n\n",
    "\n",
    "    // Allocate memory for matrices A, B, and C\n",
    "    double **A = (double**) malloc(sizeof(double*) * n);\n",
    "    double **B = (double**) malloc(sizeof(double*) * n);\n",
    "    double **C = (double**) malloc(sizeof(double*) * n);\n",
    "    for (i = 0; i < n; i++) {\n",
    "        A[i] = (double*) malloc(sizeof(double) * n);\n",
    "        B[i] = (double*) malloc(sizeof(double) * n);\n",
    "        C[i] = (double*) malloc(sizeof(double) * n);\n",
    "    }\n",
    "\n",
    "    // Initialize matrices A and B\n",
    "    for (i = 0; i < n; i++) {\n",
    "        for (j = 0; j < n; j++) {\n",
    "            A[i][j] = i;\n",
    "            B[i][j] = i + j;\n",
    "            C[i][j] = 0;\n",
    "        }\n",
    "    }\n",
    "\n",
    "    // Start timer\n",
    "    if (clock_gettime(CLOCK_REALTIME, &start) == -1) {\n",
    "        perror(\"clock gettime\");\n",
    "    }\n",
    "\n",
    "    // Naive Matrix Multiplication\n",
    "    for (i = 0; i < n; i++) {\n",
    "        for (j = 0; j < n; j++) {\n",
    "            for (k = 0; k < n; k++) {\n",
    "                C[i][j] = C[i][j] + A[i][k] * B[k][j];\n",
    "            }\n",
    "        }\n",
    "    }\n",
    "\n",
    "    // Stop timer\n",
    "    if (clock_gettime(CLOCK_REALTIME, &stop) == -1) {\n",
    "        perror(\"clock gettime\");\n",
    "    }\n",
    "    time = (stop.tv_sec - start.tv_sec) + (double)(stop.tv_nsec - start.tv_nsec) / 1e9;\n",
    "\n",
    "    // Print results\n",
    "    printf(\"Number of FLOPs = %u, Execution time = %f sec,\\n%lf MFLOPs per sec\\n\", 2 * n * n * n, time, 1 / time / 1e6 * 2 * n * n * n);\n",
    "    printf(\"C[100][100]=%f\\n\", C[100][100]);\n",
    "\n",
    "    // Release memory\n",
    "    for (i = 0; i < n; i++) {\n",
    "        free(A[i]);\n",
    "        free(B[i]);\n",
    "        free(C[i]);\n",
    "    }\n",
    "    free(A);\n",
    "    free(B);\n",
    "    free(C);\n",
    "\n",
    "    return 0;\n",
    "}"
   ]
  },
  {
   "cell_type": "markdown",
   "metadata": {
    "id": "kmbnBcvE-fny"
   },
   "source": [
    "Compile and execute the code."
   ]
  },
  {
   "cell_type": "code",
   "execution_count": 50,
   "metadata": {
    "colab": {
     "base_uri": "https://localhost:8080/"
    },
    "id": "550Nt1Qe-fny",
    "outputId": "e622ed9b-51d0-4f7b-e84f-78d1b413f60d"
   },
   "outputs": [
    {
     "output_type": "stream",
     "name": "stdout",
     "text": [
      "Number of FLOPs = 2147483648, Execution time = 24.726726 sec,\n",
      "86.848687 MFLOPs per sec\n",
      "C[100][100]=62617600.000000\n"
     ]
    }
   ],
   "source": [
    "!g++ naive_mm.c -o naive_mm && ./naive_mm"
   ]
  },
  {
   "cell_type": "markdown",
   "metadata": {
    "id": "NeNMCtjk-fny"
   },
   "source": [
    "### **TODO 3:**\n",
    "\n",
    "Blocked matrix multiplication, also known as tiled matrix multiplication, is an optimization technique used to improve the performance of matrix multiplication operations, especially on modern hardware with hierarchical memory systems. This approach involves dividing the input matrices into smaller sub-matrices or \"blocks\" and then performing the multiplication on these blocks rather than on individual elements.\n",
    "\n",
    "In the cell below, fill out the missing code."
   ]
  },
  {
   "cell_type": "code",
   "execution_count": 67,
   "metadata": {
    "colab": {
     "base_uri": "https://localhost:8080/"
    },
    "id": "1udZDC7P-fny",
    "outputId": "7aa93bb8-81ae-46d9-fb7b-7a6921f3ba49"
   },
   "outputs": [
    {
     "output_type": "stream",
     "name": "stdout",
     "text": [
      "Overwriting blocking_mm.c\n"
     ]
    }
   ],
   "source": [
    "%%writefile blocking_mm.c\n",
    "#include <stdlib.h>\n",
    "#include <stdio.h>\n",
    "#include <time.h>\n",
    "\n",
    "int main(int argc, char *argv[]) {\n",
    "    int i, j, k, ii, jj, kk;\n",
    "    struct timespec start, stop;\n",
    "    double time;\n",
    "    int n = 1024; // Matrix size is n*n\n",
    "    int b = atoi(argv[1]); // Block size\n",
    "\n",
    "    // Allocate memory for matrices A, B, and C\n",
    "    double **A = (double**) malloc(sizeof(double*) * n);\n",
    "    double **B = (double**) malloc(sizeof(double*) * n);\n",
    "    double **C = (double**) malloc(sizeof(double*) * n);\n",
    "    for (i = 0; i < n; i++) {\n",
    "        A[i] = (double*) malloc(sizeof(double) * n);\n",
    "        B[i] = (double*) malloc(sizeof(double) * n);\n",
    "        C[i] = (double*) malloc(sizeof(double) * n);\n",
    "    }\n",
    "\n",
    "    // Initialize matrices A and B\n",
    "    for (i = 0; i < n; i++) {\n",
    "        for (j = 0; j < n; j++) {\n",
    "            A[i][j] = i;\n",
    "            B[i][j] = i + j;\n",
    "            C[i][j] = 0;\n",
    "        }\n",
    "    }\n",
    "\n",
    "    // Start timer\n",
    "    if (clock_gettime(CLOCK_REALTIME, &start) == -1) {\n",
    "        perror(\"clock gettime\");\n",
    "    }\n",
    "\n",
    "    // TODO: Blocking Matrix Multiplication\n",
    "    // Your code goes here\n",
    "    //*******************************//\n",
    "    for (i=0; i<n; i+=b){\n",
    "      for (j=0; j<n; j+=b){\n",
    "        for (k=0; k<n; k+=b){\n",
    "          for (ii=i; ii<i+b; ii++){\n",
    "            for (jj=j; jj<j+b; jj++){\n",
    "              for (kk=k; kk<k+b; kk++){\n",
    "                C[ii][jj] += A[ii][kk] * B[kk][jj];\n",
    "              }\n",
    "            }\n",
    "          }\n",
    "        }\n",
    "      }\n",
    "    }\n",
    "    //*******************************//\n",
    "\n",
    "    // Stop timer\n",
    "    if (clock_gettime(CLOCK_REALTIME, &stop) == -1) {\n",
    "        perror(\"clock gettime\");\n",
    "    }\n",
    "    time = (stop.tv_sec - start.tv_sec) + (double)(stop.tv_nsec - start.tv_nsec) / 1e9;\n",
    "\n",
    "    // Print results\n",
    "    printf(\"Number of FLOPs = %u, Execution time = %f sec,\\n%lf MFLOPs per sec\\n\", 2 * n * n * n, time, 1 / time / 1e6 * 2 * n * n * n);\n",
    "    printf(\"C[100][100]=%f\\n\", C[100][100]);\n",
    "\n",
    "    // Release memory\n",
    "    for (i = 0; i < n; i++) {\n",
    "        free(A[i]);\n",
    "        free(B[i]);\n",
    "        free(C[i]);\n",
    "    }\n",
    "    free(A);\n",
    "    free(B);\n",
    "    free(C);\n",
    "\n",
    "    return 0;\n",
    "}"
   ]
  },
  {
   "cell_type": "markdown",
   "metadata": {
    "id": "6WF6ndIr-fny"
   },
   "source": [
    "Compile and execute the code with different block sizes."
   ]
  },
  {
   "cell_type": "code",
   "execution_count": 54,
   "metadata": {
    "colab": {
     "base_uri": "https://localhost:8080/"
    },
    "id": "rPsBB0b_-fny",
    "outputId": "2b044847-0c1f-41cd-a3db-0daec0989623"
   },
   "outputs": [
    {
     "output_type": "stream",
     "name": "stdout",
     "text": [
      "Number of FLOPs = 2147483648, Execution time = 11.187395 sec,\n",
      "191.955645 MFLOPs per sec\n",
      "C[100][100]=62617600.000000\n",
      "Number of FLOPs = 2147483648, Execution time = 9.132075 sec,\n",
      "235.158351 MFLOPs per sec\n",
      "C[100][100]=62617600.000000\n",
      "Number of FLOPs = 2147483648, Execution time = 8.078163 sec,\n",
      "265.838128 MFLOPs per sec\n",
      "C[100][100]=62617600.000000\n"
     ]
    }
   ],
   "source": [
    "!g++ blocking_mm.c -o blocking_mm && ./blocking_mm 4 && ./blocking_mm 8 && ./blocking_mm 16"
   ]
  },
  {
   "cell_type": "markdown",
   "metadata": {
    "id": "OUFQpzkW-fny"
   },
   "source": [
    "### **TODO 4:**\n",
    "\n",
    "OpenMP is a powerful API designed for parallel programming in C, C++, and Fortran, enabling efficient utilization of multicore and multiprocessor systems. It simplifies the development of parallel applications by providing a set of straightforward compiler directives, library routines, and environment variables that abstract away the complexities of thread management and synchronization. By allowing code to be parallelized with minimal modifications, OpenMP fosters portability and scalability across various platforms.\n",
    "\n",
    "In the cell below, use the proper pragma configuaration to execute your for loops in parallel. You need to make sure the index is a private variable to each thread, otherwise race conditions might happen. We use the default number of threads in Colab enviroment."
   ]
  },
  {
   "cell_type": "code",
   "execution_count": 64,
   "metadata": {
    "colab": {
     "base_uri": "https://localhost:8080/"
    },
    "id": "08tRckji-fnz",
    "outputId": "bd8bdc38-b9a7-4a32-8555-01082e4ca20f"
   },
   "outputs": [
    {
     "output_type": "stream",
     "name": "stdout",
     "text": [
      "Overwriting blocking_mt_mm.c\n"
     ]
    }
   ],
   "source": [
    "%%writefile blocking_mt_mm.c\n",
    "#include <stdlib.h>\n",
    "#include <stdio.h>\n",
    "#include <time.h>\n",
    "#include <omp.h>\n",
    "\n",
    "int main(int argc, char *argv[]) {\n",
    "    int i, j, k, ii, jj, kk;\n",
    "    struct timespec start, stop;\n",
    "    double time;\n",
    "    int n = 1024; // Matrix size is n*n\n",
    "    int b = atoi(argv[1]); // Block size\n",
    "\n",
    "    // Allocate memory for matrices A, B, and C\n",
    "    double **A = (double**) malloc(sizeof(double*) * n);\n",
    "    double **B = (double**) malloc(sizeof(double*) * n);\n",
    "    double **C = (double**) malloc(sizeof(double*) * n);\n",
    "    for (i = 0; i < n; i++) {\n",
    "        A[i] = (double*) malloc(sizeof(double) * n);\n",
    "        B[i] = (double*) malloc(sizeof(double) * n);\n",
    "        C[i] = (double*) malloc(sizeof(double) * n);\n",
    "    }\n",
    "\n",
    "    // Initialize matrices A and B\n",
    "    for (i = 0; i < n; i++) {\n",
    "        for (j = 0; j < n; j++) {\n",
    "            A[i][j] = i;\n",
    "            B[i][j] = i + j;\n",
    "            C[i][j] = 0;\n",
    "        }\n",
    "    }\n",
    "\n",
    "    // Start timer\n",
    "    if (clock_gettime(CLOCK_REALTIME, &start) == -1) {\n",
    "        perror(\"clock gettime\");\n",
    "    }\n",
    "\n",
    "    // TODO: Blocking Matrix Multiplication with OpenMP\n",
    "    // Your code goes here\n",
    "    //*******************************//\n",
    "    #pragma omp parallel for private(i, j, k, ii, jj, kk) collapse(2)\n",
    "    for (i=0; i<n; i+=b){\n",
    "      for (j=0; j<n; j+=b){\n",
    "        for (k=0; k<n; k+=b){\n",
    "          for (ii=i; ii<i+b; ii++){\n",
    "            for (jj=j; jj<j+b; jj++){\n",
    "              for (kk=k; kk<k+b; kk++){\n",
    "                C[ii][jj] += A[ii][kk] * B[kk][jj];\n",
    "              }\n",
    "            }\n",
    "          }\n",
    "        }\n",
    "      }\n",
    "    }\n",
    "    //*******************************//\n",
    "\n",
    "    // Stop timer\n",
    "    if (clock_gettime(CLOCK_REALTIME, &stop) == -1) {\n",
    "        perror(\"clock gettime\");\n",
    "    }\n",
    "    time = (stop.tv_sec - start.tv_sec) + (double)(stop.tv_nsec - start.tv_nsec) / 1e9;\n",
    "\n",
    "    // Print results\n",
    "    printf(\"Number of FLOPs = %u, Execution time = %f sec,\\n%lf MFLOPs per sec\\n\", 2 * n * n * n, time, 1 / time / 1e6 * 2 * n * n * n);\n",
    "    printf(\"C[100][100]=%f\\n\", C[100][100]);\n",
    "\n",
    "    // Release memory\n",
    "    for (i = 0; i < n; i++) {\n",
    "        free(A[i]);\n",
    "        free(B[i]);\n",
    "        free(C[i]);\n",
    "    }\n",
    "    free(A);\n",
    "    free(B);\n",
    "    free(C);\n",
    "\n",
    "    return 0;\n",
    "}"
   ]
  },
  {
   "cell_type": "markdown",
   "metadata": {
    "id": "ZE29XHw_-fnz"
   },
   "source": [
    "Compile and execute the code with different block sizes."
   ]
  },
  {
   "cell_type": "code",
   "execution_count": 65,
   "metadata": {
    "colab": {
     "base_uri": "https://localhost:8080/"
    },
    "id": "uo1vooJB-fnz",
    "outputId": "cbab2f25-3c8b-441c-f81c-81ac4b215ab2"
   },
   "outputs": [
    {
     "output_type": "stream",
     "name": "stdout",
     "text": [
      "Number of FLOPs = 2147483648, Execution time = 9.532337 sec,\n",
      "225.284063 MFLOPs per sec\n",
      "C[100][100]=62617600.000000\n",
      "Number of FLOPs = 2147483648, Execution time = 6.832648 sec,\n",
      "314.297440 MFLOPs per sec\n",
      "C[100][100]=62617600.000000\n",
      "Number of FLOPs = 2147483648, Execution time = 7.451108 sec,\n",
      "288.209965 MFLOPs per sec\n",
      "C[100][100]=62617600.000000\n"
     ]
    }
   ],
   "source": [
    "!g++ -fopenmp blocking_mt_mm.c -o blocking_mt_mm && ./blocking_mt_mm 4 && ./blocking_mt_mm 8 && ./blocking_mt_mm 16"
   ]
  }
 ],
 "metadata": {
  "colab": {
   "provenance": []
  },
  "kernelspec": {
   "display_name": "Python 3",
   "name": "python3"
  },
  "language_info": {
   "codemirror_mode": {
    "name": "ipython",
    "version": 3
   },
   "file_extension": ".py",
   "mimetype": "text/x-python",
   "name": "python",
   "nbconvert_exporter": "python",
   "pygments_lexer": "ipython3",
   "version": "3.9.18"
  }
 },
 "nbformat": 4,
 "nbformat_minor": 0
}
